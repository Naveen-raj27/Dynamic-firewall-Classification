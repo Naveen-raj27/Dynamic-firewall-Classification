{
 "cells": [
  {
   "cell_type": "code",
   "execution_count": 5,
   "metadata": {
    "colab": {
     "background_save": true
    },
    "id": "Vo4qr9gtXfqF"
   },
   "outputs": [],
   "source": [
    "# Define paths\n",
    "parent_folder = \"C:/Users/Naveen/Desktop/2nd images/dataset\"  # Path to the parent folder containing action folders\n",
    "train_folder = \"C:/Users/Naveen/Desktop/2nd images/train images\"\n",
    "test_folder = \"C:/Users/Naveen/Desktop/2nd images/test images\""
   ]
  },
  {
   "cell_type": "code",
   "execution_count": 6,
   "metadata": {
    "colab": {
     "background_save": true
    },
    "id": "GT0brAskXrt6"
   },
   "outputs": [],
   "source": [
    "# Create train and test folders if they don't exist\n",
    "import os\n",
    "os.makedirs(train_folder, exist_ok=True)\n",
    "os.makedirs(test_folder, exist_ok=True)"
   ]
  },
  {
   "cell_type": "code",
   "execution_count": 7,
   "metadata": {
    "colab": {
     "background_save": true
    },
    "id": "JxZzn-cHXvb6"
   },
   "outputs": [],
   "source": [
    "import os\n",
    "import numpy as np\n",
    "import shutil\n",
    "\n",
    "from flask import Flask, render_template, request, jsonify\n",
    "import numpy as np\n",
    "from PIL import Image\n",
    "import os\n",
    "import tensorflow as tf\n",
    "\n",
    "import tensorflow as tf\n",
    "from tensorflow.keras.models import Sequential\n",
    "from tensorflow.keras.layers import Conv2D, MaxPooling2D, Flatten, Dense\n",
    "from tensorflow.keras.preprocessing.image import ImageDataGenerator"
   ]
  },
  {
   "cell_type": "code",
   "execution_count": 8,
   "metadata": {
    "colab": {
     "background_save": true
    },
    "id": "la_FkCw2Xy3h"
   },
   "outputs": [],
   "source": [
    "# Function to split images into train and test sets\n",
    "def split_images_into_train_test():\n",
    "    for action_folder in os.listdir(parent_folder):\n",
    "        action_path = os.path.join(parent_folder, action_folder)\n",
    "        if os.path.isdir(action_path):\n",
    "            # Create train and test folders for the action\n",
    "            train_action_folder = os.path.join(train_folder, action_folder)\n",
    "            test_action_folder = os.path.join(test_folder, action_folder)\n",
    "            os.makedirs(train_action_folder, exist_ok=True)\n",
    "            os.makedirs(test_action_folder, exist_ok=True)\n",
    "\n",
    "            images = os.listdir(action_path)\n",
    "            np.random.shuffle(images)\n",
    "            train_size = int(0.8 * len(images))  # 80% train, 20% test\n",
    "            train_images = images[:train_size]\n",
    "            test_images = images[train_size:]\n",
    "\n",
    "            for img in train_images:\n",
    "                shutil.move(os.path.join(action_path, img), os.path.join(train_action_folder, img))\n",
    "            for img in test_images:\n",
    "                shutil.move(os.path.join(action_path, img), os.path.join(test_action_folder, img))"
   ]
  },
  {
   "cell_type": "code",
   "execution_count": 9,
   "metadata": {
    "id": "JcuzVSyYX1P8"
   },
   "outputs": [],
   "source": [
    "# Split images into train and test sets\n",
    "split_images_into_train_test()"
   ]
  },
  {
   "cell_type": "code",
   "execution_count": null,
   "metadata": {
    "id": "iHIsqOukX5Dk"
   },
   "outputs": [],
   "source": []
  },
  {
   "cell_type": "code",
   "execution_count": 10,
   "metadata": {
    "id": "hAdIOpfzYn4g"
   },
   "outputs": [],
   "source": [
    "# Define image dimensions and other parameters\n",
    "img_width, img_height = 100, 100\n",
    "batch_size = 32\n",
    "epochs = 10"
   ]
  },
  {
   "cell_type": "code",
   "execution_count": 11,
   "metadata": {
    "id": "anjDeKHhYq1G"
   },
   "outputs": [],
   "source": [
    "# Define paths\n",
    "train_data_dir = \"C:/Users/Naveen/Desktop/2nd images/train images\"\n",
    "test_data_dir = \"C:/Users/Naveen/Desktop/2nd images/test images\""
   ]
  },
  {
   "cell_type": "code",
   "execution_count": 12,
   "metadata": {
    "id": "WWI_qHasYvA4"
   },
   "outputs": [],
   "source": [
    "# Use ImageDataGenerator to preprocess the images\n",
    "train_datagen = ImageDataGenerator(rescale=1./255)\n",
    "test_datagen = ImageDataGenerator(rescale=1./255)"
   ]
  },
  {
   "cell_type": "code",
   "execution_count": 13,
   "metadata": {
    "colab": {
     "base_uri": "https://localhost:8080/"
    },
    "id": "PUolbhzYYxou",
    "outputId": "dca47ce5-36ab-439f-cbd4-f86968c4687c"
   },
   "outputs": [
    {
     "name": "stdout",
     "output_type": "stream",
     "text": [
      "Found 1243 images belonging to 4 classes.\n"
     ]
    }
   ],
   "source": [
    "train_generator = train_datagen.flow_from_directory(\n",
    "    train_data_dir,\n",
    "    target_size=(img_width, img_height),\n",
    "    batch_size=batch_size,\n",
    "    class_mode='categorical'\n",
    ")"
   ]
  },
  {
   "cell_type": "code",
   "execution_count": 14,
   "metadata": {
    "colab": {
     "base_uri": "https://localhost:8080/"
    },
    "id": "in2qC7gQY0qk",
    "outputId": "b9ca2c04-4f2a-4487-b940-093f9aca58fc"
   },
   "outputs": [
    {
     "name": "stdout",
     "output_type": "stream",
     "text": [
      "Found 311 images belonging to 4 classes.\n"
     ]
    }
   ],
   "source": [
    "test_generator = test_datagen.flow_from_directory(\n",
    "    test_data_dir,\n",
    "    target_size=(img_width, img_height),\n",
    "    batch_size=batch_size,\n",
    "    class_mode='categorical'\n",
    ")"
   ]
  },
  {
   "cell_type": "code",
   "execution_count": 15,
   "metadata": {
    "id": "JCkvVKokY6ke"
   },
   "outputs": [],
   "source": [
    "# Build the CNN model\n",
    "model = Sequential([\n",
    "    Conv2D(32, (3, 3), activation='relu', input_shape=(img_width, img_height, 3)),\n",
    "    MaxPooling2D((2, 2)),\n",
    "    Conv2D(64, (3, 3), activation='relu'),\n",
    "    MaxPooling2D((2, 2)),\n",
    "    Conv2D(128, (3, 3), activation='relu'),\n",
    "    MaxPooling2D((2, 2)),\n",
    "    Flatten(),\n",
    "    Dense(128, activation='relu'),\n",
    "    Dense(4, activation='softmax')  # 4 output classes: allow, deny, drop, reset-both\n",
    "])\n"
   ]
  },
  {
   "cell_type": "code",
   "execution_count": 16,
   "metadata": {
    "id": "ngdUyAcoY9yl"
   },
   "outputs": [],
   "source": [
    "# Compile the model\n",
    "model.compile(optimizer='adam', loss='categorical_crossentropy', metrics=['accuracy'])"
   ]
  },
  {
   "cell_type": "code",
   "execution_count": 17,
   "metadata": {
    "colab": {
     "base_uri": "https://localhost:8080/",
     "height": 304
    },
    "id": "p43wgeDWZDDm",
    "outputId": "2b4a64cf-3135-41b2-8df7-7b987fba5b39"
   },
   "outputs": [
    {
     "name": "stdout",
     "output_type": "stream",
     "text": [
      "Epoch 1/10\n",
      "39/39 [==============================] - 47s 1s/step - loss: 0.4478 - accuracy: 0.8866\n",
      "Epoch 2/10\n",
      "39/39 [==============================] - 40s 1s/step - loss: 0.2281 - accuracy: 0.9437\n",
      "Epoch 3/10\n",
      "39/39 [==============================] - 41s 1s/step - loss: 0.2046 - accuracy: 0.9477\n",
      "Epoch 4/10\n",
      "39/39 [==============================] - 41s 1s/step - loss: 0.1845 - accuracy: 0.9485\n",
      "Epoch 5/10\n",
      "39/39 [==============================] - 39s 1s/step - loss: 0.1803 - accuracy: 0.9549\n",
      "Epoch 6/10\n",
      "39/39 [==============================] - 42s 1s/step - loss: 0.1754 - accuracy: 0.9574\n",
      "Epoch 7/10\n",
      "39/39 [==============================] - 40s 1s/step - loss: 0.1528 - accuracy: 0.9614\n",
      "Epoch 8/10\n",
      "39/39 [==============================] - 42s 1s/step - loss: 0.1497 - accuracy: 0.9590\n",
      "Epoch 9/10\n",
      "39/39 [==============================] - 39s 1s/step - loss: 0.1328 - accuracy: 0.9606\n",
      "Epoch 10/10\n",
      "39/39 [==============================] - 39s 1s/step - loss: 0.1211 - accuracy: 0.9670\n"
     ]
    },
    {
     "data": {
      "text/plain": [
       "<keras.src.callbacks.History at 0x26a0144aa60>"
      ]
     },
     "execution_count": 17,
     "metadata": {},
     "output_type": "execute_result"
    }
   ],
   "source": [
    "# Train the model\n",
    "model.fit(train_generator, epochs=epochs)"
   ]
  },
  {
   "cell_type": "code",
   "execution_count": 18,
   "metadata": {
    "colab": {
     "base_uri": "https://localhost:8080/"
    },
    "id": "OUrSgxwUZFyG",
    "outputId": "a9da75b1-5f7f-469c-ef42-6da58e309a5b"
   },
   "outputs": [
    {
     "name": "stdout",
     "output_type": "stream",
     "text": [
      "10/10 [==============================] - 4s 340ms/step - loss: 0.1334 - accuracy: 0.9582\n",
      "Test Accuracy: 0.9581993818283081\n"
     ]
    }
   ],
   "source": [
    "# Evaluate the model on the test data\n",
    "test_loss, test_accuracy = model.evaluate(test_generator)\n",
    "print(f'Test Accuracy: {test_accuracy}')"
   ]
  },
  {
   "cell_type": "code",
   "execution_count": 19,
   "metadata": {},
   "outputs": [
    {
     "name": "stderr",
     "output_type": "stream",
     "text": [
      "C:\\Users\\Naveen\\anaconda3\\lib\\site-packages\\keras\\src\\engine\\training.py:3000: UserWarning: You are saving your model as an HDF5 file via `model.save()`. This file format is considered legacy. We recommend using instead the native Keras format, e.g. `model.save('my_model.keras')`.\n",
      "  saving_api.save_model(\n"
     ]
    }
   ],
   "source": [
    "model.save('newmodel.h5')"
   ]
  },
  {
   "cell_type": "code",
   "execution_count": null,
   "metadata": {},
   "outputs": [
    {
     "name": "stdout",
     "output_type": "stream",
     "text": [
      " * Serving Flask app \"__main__\" (lazy loading)\n",
      " * Environment: production\n",
      "   WARNING: This is a development server. Do not use it in a production deployment.\n",
      "   Use a production WSGI server instead.\n",
      " * Debug mode: off\n"
     ]
    },
    {
     "name": "stderr",
     "output_type": "stream",
     "text": [
      " * Running on http://127.0.0.1:5000/ (Press CTRL+C to quit)\n",
      "127.0.0.1 - - [28/Mar/2024 09:38:16] \"\u001b[37mGET / HTTP/1.1\u001b[0m\" 200 -\n",
      "127.0.0.1 - - [28/Mar/2024 09:38:17] \"\u001b[33mGET /favicon.ico HTTP/1.1\u001b[0m\" 404 -\n",
      "127.0.0.1 - - [28/Mar/2024 09:38:24] \"\u001b[37mGET / HTTP/1.1\u001b[0m\" 200 -\n",
      "127.0.0.1 - - [28/Mar/2024 09:38:53] \"\u001b[37mGET / HTTP/1.1\u001b[0m\" 200 -\n"
     ]
    }
   ],
   "source": [
    "from flask import Flask, render_template, request\n",
    "import numpy as np\n",
    "from PIL import Image, ImageDraw\n",
    "import os\n",
    "import tensorflow as tf\n",
    "\n",
    "app = Flask(__name__)\n",
    "\n",
    "# Load the saved model\n",
    "loaded_model = tf.keras.models.load_model('modelnew.h5')\n",
    "\n",
    "# Define a function to preprocess input data and convert it into images\n",
    "def preprocess_input_and_convert_to_image(input_values, input_filename):\n",
    "    # Create a blank image\n",
    "    img = Image.new('RGB', (100, 100), color='white')\n",
    "\n",
    "    # Initialize ImageDraw\n",
    "    draw = ImageDraw.Draw(img)\n",
    "\n",
    "    # Example: Draw a rectangle based on input values\n",
    "    x0, y0 = 10, 10\n",
    "    x1, y1 = 10 + input_values[0], 10 + input_values[1]\n",
    "    draw.rectangle([x0, y0, x1, y1], fill='black')\n",
    "\n",
    "    # Save the image\n",
    "    img.save(input_filename)\n",
    "\n",
    "# Define a function for making predictions with the loaded model\n",
    "def predict_action(input_values):\n",
    "    # Define the filename for the input image\n",
    "    input_filename = 'input_image.jpg'\n",
    "\n",
    "    # Preprocess input data and convert it into an image\n",
    "    preprocess_input_and_convert_to_image(input_values, input_filename)\n",
    "\n",
    "    # Load the image and preprocess it\n",
    "    input_image = tf.keras.preprocessing.image.load_img(input_filename, target_size=(100, 100))\n",
    "    input_image = tf.keras.preprocessing.image.img_to_array(input_image)\n",
    "    input_image = np.expand_dims(input_image, axis=0)\n",
    "    input_image /= 255.0  # Normalize the image\n",
    "\n",
    "    # Make predictions\n",
    "    prediction = loaded_model.predict(input_image)\n",
    "\n",
    "    # Define the class labels\n",
    "    class_labels = ['allow', 'drop', 'deny', 'reset-both']\n",
    "\n",
    "    # Get the index of the class with the highest probability\n",
    "    predicted_class_index = np.argmax(prediction)\n",
    "\n",
    "    # Map the index to the corresponding class label\n",
    "    predicted_class_label = class_labels[predicted_class_index]\n",
    "\n",
    "    return predicted_class_label\n",
    "\n",
    "@app.route('/')\n",
    "def index():\n",
    "    return render_template('index.html')\n",
    "\n",
    "@app.route('/predict', methods=['POST'])\n",
    "def predict():\n",
    "    # Get input values from the form\n",
    "    input_values = [int(request.form[f'input_{i}']) for i in range(1, 12)]\n",
    "\n",
    "    # Make predictions\n",
    "    predicted_class = predict_action(input_values)\n",
    "\n",
    "    return render_template('result.html', predicted_class=predicted_class)\n",
    "\n",
    "if __name__ == '__main__':\n",
    "    app.run(debug=False)\n"
   ]
  },
  {
   "cell_type": "code",
   "execution_count": 18,
   "metadata": {
    "colab": {
     "base_uri": "https://localhost:8080/"
    },
    "id": "9w16gfhRb-td",
    "outputId": "84102b98-0b60-49ae-acd5-351c019e9369"
   },
   "outputs": [
    {
     "name": "stdout",
     "output_type": "stream",
     "text": [
      "Model: \"sequential\"\n",
      "_________________________________________________________________\n",
      " Layer (type)                Output Shape              Param #   \n",
      "=================================================================\n",
      " conv2d (Conv2D)             (None, 98, 98, 32)        896       \n",
      "                                                                 \n",
      " max_pooling2d (MaxPooling2  (None, 49, 49, 32)        0         \n",
      " D)                                                              \n",
      "                                                                 \n",
      " conv2d_1 (Conv2D)           (None, 47, 47, 64)        18496     \n",
      "                                                                 \n",
      " max_pooling2d_1 (MaxPoolin  (None, 23, 23, 64)        0         \n",
      " g2D)                                                            \n",
      "                                                                 \n",
      " conv2d_2 (Conv2D)           (None, 21, 21, 128)       73856     \n",
      "                                                                 \n",
      " max_pooling2d_2 (MaxPoolin  (None, 10, 10, 128)       0         \n",
      " g2D)                                                            \n",
      "                                                                 \n",
      " flatten (Flatten)           (None, 12800)             0         \n",
      "                                                                 \n",
      " dense (Dense)               (None, 128)               1638528   \n",
      "                                                                 \n",
      " dense_1 (Dense)             (None, 4)                 516       \n",
      "                                                                 \n",
      "=================================================================\n",
      "Total params: 1732292 (6.61 MB)\n",
      "Trainable params: 1732292 (6.61 MB)\n",
      "Non-trainable params: 0 (0.00 Byte)\n",
      "_________________________________________________________________\n"
     ]
    }
   ],
   "source": [
    "model.summary()"
   ]
  },
  {
   "cell_type": "code",
   "execution_count": 26,
   "metadata": {},
   "outputs": [
    {
     "name": "stdout",
     "output_type": "stream",
     "text": [
      "Epoch 1/10\n",
      "39/39 [==============================] - 77s 2s/step - loss: 0.1574 - accuracy: 0.9606 - val_loss: 0.2176 - val_accuracy: 0.9486\n",
      "Epoch 2/10\n",
      "39/39 [==============================] - 57s 1s/step - loss: 0.1536 - accuracy: 0.9574 - val_loss: 0.1612 - val_accuracy: 0.9518\n",
      "Epoch 3/10\n",
      "39/39 [==============================] - 65s 2s/step - loss: 0.1326 - accuracy: 0.9630 - val_loss: 0.1389 - val_accuracy: 0.9582\n",
      "Epoch 4/10\n",
      "39/39 [==============================] - 75s 2s/step - loss: 0.1102 - accuracy: 0.9678 - val_loss: 0.1361 - val_accuracy: 0.9646\n",
      "Epoch 5/10\n",
      "39/39 [==============================] - 57s 1s/step - loss: 0.1118 - accuracy: 0.9678 - val_loss: 0.1419 - val_accuracy: 0.9614\n",
      "Epoch 6/10\n",
      "39/39 [==============================] - 70s 2s/step - loss: 0.1000 - accuracy: 0.9686 - val_loss: 0.1513 - val_accuracy: 0.9550\n",
      "Epoch 7/10\n",
      "39/39 [==============================] - 65s 2s/step - loss: 0.1035 - accuracy: 0.9686 - val_loss: 0.1211 - val_accuracy: 0.9614\n",
      "Epoch 8/10\n",
      "39/39 [==============================] - 81s 2s/step - loss: 0.1034 - accuracy: 0.9710 - val_loss: 0.1352 - val_accuracy: 0.9646\n",
      "Epoch 9/10\n",
      "39/39 [==============================] - 53s 1s/step - loss: 0.1027 - accuracy: 0.9662 - val_loss: 0.1454 - val_accuracy: 0.9614\n",
      "Epoch 10/10\n",
      "39/39 [==============================] - 46s 1s/step - loss: 0.1088 - accuracy: 0.9686 - val_loss: 0.1451 - val_accuracy: 0.9646\n"
     ]
    },
    {
     "data": {
      "image/png": "[encoded data removed]",
      "text/plain": [
       "<Figure size 720x432 with 1 Axes>"
      ]
     },
     "metadata": {
      "needs_background": "light"
     },
     "output_type": "display_data"
    }
   ],
   "source": [
    "import matplotlib.pyplot as plt\n",
    "\n",
    "# Train the model\n",
    "history = model.fit(train_generator, epochs=epochs, validation_data=test_generator)\n",
    "\n",
    "# Extract training history\n",
    "train_accuracy = history.history['accuracy']\n",
    "val_accuracy = history.history['val_accuracy']\n",
    "epochs_range = range(1, epochs + 1)\n",
    "\n",
    "# Plotting epochs versus accuracy\n",
    "plt.figure(figsize=(10, 6))\n",
    "plt.plot(epochs_range, train_accuracy, label='Training Accuracy', marker='o')\n",
    "plt.plot(epochs_range, val_accuracy, label='Validation Accuracy', marker='o')\n",
    "plt.title('Training and Validation Accuracy')\n",
    "plt.xlabel('Epochs')\n",
    "plt.ylabel('Accuracy')\n",
    "plt.xticks(epochs_range)\n",
    "plt.legend()\n",
    "plt.grid(True)\n",
    "plt.tight_layout()\n",
    "plt.show()\n"
   ]
  },
  {
   "cell_type": "code",
   "execution_count": null,
   "metadata": {},
   "outputs": [],
   "source": []
  }
 ],
 "metadata": {
  "colab": {
   "provenance": []
  },
  "kernelspec": {
   "display_name": "Python 3",
   "language": "python",
   "name": "python3"
  },
  "language_info": {
   "codemirror_mode": {
    "name": "ipython",
    "version": 3
   },
   "file_extension": ".py",
   "mimetype": "text/x-python",
   "name": "python",
   "nbconvert_exporter": "python",
   "pygments_lexer": "ipython3",
   "version": "3.8.8"
  }
 },
 "nbformat": 4,
 "nbformat_minor": 1
}
